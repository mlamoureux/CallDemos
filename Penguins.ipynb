{
 "cells": [
  {
   "cell_type": "markdown",
   "metadata": {},
   "source": [
    "\n",
    "<div style=\"text-align: right\"> \n",
    "Callysto.ca \n",
    "<img style=\"float: right;\" width=\"100px\" src=\"C_logo.png\">\n",
    "</div>\n",
    "\n",
    "\n",
    "# Penguins!!\n",
    "\n",
    "Penguin week is one of the funnest weeks in kindergarten. The kids love it, and so do the teachers!\n",
    "\n",
    "The notebook is a short demo of how we might combine several online resources for teachers to access information about penguins.\n",
    "\n"
   ]
  },
  {
   "cell_type": "code",
   "execution_count": 1,
   "metadata": {},
   "outputs": [
    {
     "data": {
      "text/html": [
       "\n",
       "<script>\n",
       "  function code_toggle() {\n",
       "    if (code_shown){\n",
       "      $('div.input').hide('500');\n",
       "      $('#toggleButton').val('Show Code')\n",
       "    } else {\n",
       "      $('div.input').show('500');\n",
       "      $('#toggleButton').val('Hide Code')\n",
       "    }\n",
       "    code_shown = !code_shown\n",
       "  }\n",
       "\n",
       "  $( document ).ready(function(){\n",
       "    code_shown=false;\n",
       "    $('div.input').hide()\n",
       "  });\n",
       "</script>\n",
       "\n",
       "<form action=\"javascript:code_toggle()\"><input type=\"submit\" id=\"toggleButton\" value=\"Show Code\"></form>"
      ],
      "text/plain": [
       "<IPython.core.display.HTML object>"
      ]
     },
     "metadata": {},
     "output_type": "display_data"
    }
   ],
   "source": [
    "%%html\n",
    "\n",
    "<script>\n",
    "  function code_toggle() {\n",
    "    if (code_shown){\n",
    "      $('div.input').hide('500');\n",
    "      $('#toggleButton').val('Show Code')\n",
    "    } else {\n",
    "      $('div.input').show('500');\n",
    "      $('#toggleButton').val('Hide Code')\n",
    "    }\n",
    "    code_shown = !code_shown\n",
    "  }\n",
    "\n",
    "  $( document ).ready(function(){\n",
    "    code_shown=false;\n",
    "    $('div.input').hide()\n",
    "  });\n",
    "</script>\n",
    "\n",
    "<form action=\"javascript:code_toggle()\"><input type=\"submit\" id=\"toggleButton\" value=\"Show Code\"></form>\n"
   ]
  },
  {
   "cell_type": "code",
   "execution_count": 2,
   "metadata": {},
   "outputs": [],
   "source": [
    "from IPython.display import HTML"
   ]
  },
  {
   "cell_type": "markdown",
   "metadata": {},
   "source": [
    "## First,\n",
    "\n",
    "we include some \"gifs\" of penguins in their natural habitate. Both on land, and on ice."
   ]
  },
  {
   "cell_type": "code",
   "execution_count": 3,
   "metadata": {},
   "outputs": [
    {
     "data": {
      "text/html": [
       "<iframe src=\"https://giphy.com/embed/l1KVbC2HA35xbN292\" width=\"480\" height=\"269\" frameBorder=\"0\" class=\"giphy-embed\" allowFullScreen></iframe><p><a href=\"https://giphy.com/gifs/montereybayaquarium-penguin-penguins-l1KVbC2HA35xbN292\">African Penguins (GIPHY)</a></p>"
      ],
      "text/plain": [
       "<IPython.core.display.HTML object>"
      ]
     },
     "execution_count": 3,
     "metadata": {},
     "output_type": "execute_result"
    }
   ],
   "source": [
    "HTML('<iframe src=\"https://giphy.com/embed/l1KVbC2HA35xbN292\" width=\"480\" height=\"269\" frameBorder=\"0\" class=\"giphy-embed\" allowFullScreen></iframe><p><a href=\"https://giphy.com/gifs/montereybayaquarium-penguin-penguins-l1KVbC2HA35xbN292\">African Penguins (GIPHY)</a></p>')"
   ]
  },
  {
   "cell_type": "code",
   "execution_count": 4,
   "metadata": {},
   "outputs": [
    {
     "data": {
      "text/html": [
       "<iframe src=\"https://giphy.com/embed/3ohc0ScQ4VNCCzKjIc\" width=\"480\" height=\"269\" frameBorder=\"0\" class=\"giphy-embed\" allowFullScreen></iframe><p><a href=\"https://giphy.com/gifs/montereybayaquarium-penguin-penguins-3ohc0ScQ4VNCCzKjIc\">African Penguins (GIPHY)</a></p>"
      ],
      "text/plain": [
       "<IPython.core.display.HTML object>"
      ]
     },
     "execution_count": 4,
     "metadata": {},
     "output_type": "execute_result"
    }
   ],
   "source": [
    "HTML('<iframe src=\"https://giphy.com/embed/3ohc0ScQ4VNCCzKjIc\" width=\"480\" height=\"269\" frameBorder=\"0\" class=\"giphy-embed\" allowFullScreen></iframe><p><a href=\"https://giphy.com/gifs/montereybayaquarium-penguin-penguins-3ohc0ScQ4VNCCzKjIc\">African Penguins (GIPHY)</a></p>')"
   ]
  },
  {
   "cell_type": "markdown",
   "metadata": {},
   "source": [
    "## Next,\n",
    "\n",
    "we can add links to interesting, external websites that the teachers might like to explore.\n",
    "\n",
    "Here is a website from teacher Ashley at One Smart Bunch: \n",
    "[Click me](https://onesharpbunch.com/2016/01/penguin-activities-in-kindergarten.html)\n",
    "\n",
    "I like her poem, that can be sung to the tune of Twinkle Twinkle Little Star:\n",
    "```\n",
    "Waddle, waddle on webbed feet\n",
    "Looking for a tasty treat.\n",
    "Something something in the snow.\n",
    "Somethign something on the go.\n",
    "```\n",
    "\n",
    "Of course, we always can go to Wikipedia to get tons of information on penguins:\n",
    "[Click me](https://en.wikipedia.org/wiki/Penguin)"
   ]
  },
  {
   "cell_type": "markdown",
   "metadata": {},
   "source": [
    "## And finally,\n",
    "\n",
    "it's always nice to see a little movie about this cute little birds, which we can embed directly into the notebook."
   ]
  },
  {
   "cell_type": "code",
   "execution_count": 5,
   "metadata": {},
   "outputs": [
    {
     "data": {
      "text/html": [
       "<H1> Emperor Penguins <iframe width=\"560\" height=\"315\" src=\"https://www.youtube.com/embed/c7M686pXr6M?rel=0&amp;showinfo=0&amp;start=100\" frameborder=\"0\" allow=\"autoplay; encrypted-media\" allowfullscreen></iframe>"
      ],
      "text/plain": [
       "<IPython.core.display.HTML object>"
      ]
     },
     "execution_count": 5,
     "metadata": {},
     "output_type": "execute_result"
    }
   ],
   "source": [
    "from IPython.display import HTML\n",
    "\n",
    "HTML('<H1> Emperor Penguins <iframe width=\"560\" height=\"315\" src=\"https://www.youtube.com/embed/c7M686pXr6M?rel=0&amp;showinfo=0&amp;start=100\" frameborder=\"0\" allow=\"autoplay; encrypted-media\" allowfullscreen></iframe>')\n",
    "\n"
   ]
  },
  {
   "cell_type": "code",
   "execution_count": null,
   "metadata": {},
   "outputs": [],
   "source": []
  },
  {
   "cell_type": "markdown",
   "metadata": {},
   "source": [
    "## Next steps\n",
    "\n",
    "would be for the teachers to find their own resources, and include them as they see fit in this demo."
   ]
  },
  {
   "cell_type": "code",
   "execution_count": null,
   "metadata": {},
   "outputs": [],
   "source": []
  }
 ],
 "metadata": {
  "kernelspec": {
   "display_name": "Python 3",
   "language": "python",
   "name": "python3"
  },
  "language_info": {
   "codemirror_mode": {
    "name": "ipython",
    "version": 3
   },
   "file_extension": ".py",
   "mimetype": "text/x-python",
   "name": "python",
   "nbconvert_exporter": "python",
   "pygments_lexer": "ipython3",
   "version": "3.6.4"
  }
 },
 "nbformat": 4,
 "nbformat_minor": 2
}
